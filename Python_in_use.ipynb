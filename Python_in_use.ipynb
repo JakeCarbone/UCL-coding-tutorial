{
 "cells": [
  {
   "cell_type": "markdown",
   "metadata": {},
   "source": [
    "# Python in Use Tutorial"
   ]
  },
  {
   "cell_type": "markdown",
   "metadata": {},
   "source": [
    "Now we have the basics of Python down, lets put it to use with a quick real world example.\n",
    "\n",
    "In this example we will use Python to scrape the disclosed meetings of [EU Commission President Ursula von der Leyen](http://ec.europa.eu/transparencyinitiative/meetings/meeting.do?host=c8e208ad-7dc2-4a97-acc9-859463c69ec4&d-6679426-p=1). We can then analyse and plot this data. "
   ]
  },
  {
   "cell_type": "markdown",
   "metadata": {},
   "source": [
    "## Importing modules"
   ]
  },
  {
   "cell_type": "markdown",
   "metadata": {},
   "source": [
    "In the last tutorial we briefly touched on modules and importing them. In this tutorial we will be using some very popular and powerful modules. Lets start by importing `pandas` and `time`. "
   ]
  },
  {
   "cell_type": "code",
   "execution_count": 35,
   "metadata": {},
   "outputs": [],
   "source": [
    "import time\n",
    "import pandas as pd # adding the as pd tells Python to abbreviate the term pandas as pd"
   ]
  },
  {
   "cell_type": "markdown",
   "metadata": {},
   "source": [
    "Time is a Python package that lets you set timers in your code. We will be using it to make sure our scraper doesn't query the EU site too fast.\n",
    "\n",
    "Pandas is a great module for working with data. It gives you the ability to create DataFrames which you can then easily analyse.\n",
    "\n",
    "It also comes with the great feature `read_html` which will read data from an html table and out put a dataframe. This makes scrapping the EU meetings site as easy as running one line of code.\n",
    "\n",
    "To start lets define a variable `url_start` that we can scrape."
   ]
  },
  {
   "cell_type": "code",
   "execution_count": 2,
   "metadata": {},
   "outputs": [],
   "source": [
    "url_start = 'http://ec.europa.eu/transparencyinitiative/meetings/meeting.do?host=c8e208ad-7dc2-4a97-acc9-859463c69ec4&d-6679426-p=1'"
   ]
  },
  {
   "cell_type": "markdown",
   "metadata": {},
   "source": [
    "Now we call the `read_html` function from the pandas module."
   ]
  },
  {
   "cell_type": "code",
   "execution_count": 3,
   "metadata": {},
   "outputs": [],
   "source": [
    "df = pd.read_html(url_start)[0] # For some reason read_html returns the dataframe as the only item in a list so we use [0] to get the dataframe out of the list \n"
   ]
  },
  {
   "cell_type": "markdown",
   "metadata": {},
   "source": [
    "We can now view the dataframe `df` by running it in a cell by itself. Jupyter notebooks will print the last object in a cell if it is not being redefined with the `=` sign. Like the chess board in the last tutorial, Jupyter is able to recognize and render the dataframe as a table."
   ]
  },
  {
   "cell_type": "code",
   "execution_count": 5,
   "metadata": {},
   "outputs": [
    {
     "data": {
      "text/html": [
       "<div>\n",
       "<style scoped>\n",
       "    .dataframe tbody tr th:only-of-type {\n",
       "        vertical-align: middle;\n",
       "    }\n",
       "\n",
       "    .dataframe tbody tr th {\n",
       "        vertical-align: top;\n",
       "    }\n",
       "\n",
       "    .dataframe thead th {\n",
       "        text-align: right;\n",
       "    }\n",
       "</style>\n",
       "<table border=\"1\" class=\"dataframe\">\n",
       "  <thead>\n",
       "    <tr style=\"text-align: right;\">\n",
       "      <th></th>\n",
       "      <th>Date</th>\n",
       "      <th>Location</th>\n",
       "      <th>Entity/ies met</th>\n",
       "      <th>Subject(s)</th>\n",
       "    </tr>\n",
       "  </thead>\n",
       "  <tbody>\n",
       "    <tr>\n",
       "      <th>0</th>\n",
       "      <td>03/09/2021</td>\n",
       "      <td>Evian, France</td>\n",
       "      <td>Allianz SE (Allianz Group)</td>\n",
       "      <td>Meeting with CEO of Allianz</td>\n",
       "    </tr>\n",
       "    <tr>\n",
       "      <th>1</th>\n",
       "      <td>29/08/2021</td>\n",
       "      <td>Brussels</td>\n",
       "      <td>European Round Table for Industry (ERT)</td>\n",
       "      <td>Dinner/ meeting with the ERT members on green ...</td>\n",
       "    </tr>\n",
       "    <tr>\n",
       "      <th>2</th>\n",
       "      <td>25/08/2021</td>\n",
       "      <td>Videoconference</td>\n",
       "      <td>Siemens AG (SAG)  Volvo AB (Volvo Group)  A.P....</td>\n",
       "      <td>Videoconference with Chairman of Volvo, Chairm...</td>\n",
       "    </tr>\n",
       "    <tr>\n",
       "      <th>3</th>\n",
       "      <td>19/07/2021</td>\n",
       "      <td>Brussels</td>\n",
       "      <td>Bill &amp; Melinda Gates Foundation (BMGF)</td>\n",
       "      <td>Meeting with Co-chairman and co-founder of the...</td>\n",
       "    </tr>\n",
       "    <tr>\n",
       "      <th>4</th>\n",
       "      <td>09/07/2021</td>\n",
       "      <td>Brussels</td>\n",
       "      <td>Global Citizen</td>\n",
       "      <td>Meeting with the CEO from Global Citizen</td>\n",
       "    </tr>\n",
       "    <tr>\n",
       "      <th>5</th>\n",
       "      <td>24/04/2021</td>\n",
       "      <td>Brussels</td>\n",
       "      <td>Potsdam-Institut für Klimafolgenforschung (PIK)</td>\n",
       "      <td>Meeting with Founding Director of the Potsdam ...</td>\n",
       "    </tr>\n",
       "    <tr>\n",
       "      <th>6</th>\n",
       "      <td>29/03/2021</td>\n",
       "      <td>Videoconference</td>\n",
       "      <td>Siemens AG (SAG)  Volvo AB (Volvo Group)  A.P....</td>\n",
       "      <td>Videoconference with Chairman of Volvo, Chairm...</td>\n",
       "    </tr>\n",
       "    <tr>\n",
       "      <th>7</th>\n",
       "      <td>19/03/2021</td>\n",
       "      <td>Videoconference</td>\n",
       "      <td>Bundesverband der Deutschen Industrie e.V. (BDI)</td>\n",
       "      <td>Meeting with BDI President</td>\n",
       "    </tr>\n",
       "    <tr>\n",
       "      <th>8</th>\n",
       "      <td>20/02/2021</td>\n",
       "      <td>Videoconference</td>\n",
       "      <td>Global Citizen</td>\n",
       "      <td>Meeting with the CEO from Global Citizen</td>\n",
       "    </tr>\n",
       "    <tr>\n",
       "      <th>9</th>\n",
       "      <td>19/02/2021</td>\n",
       "      <td>Videoconference</td>\n",
       "      <td>Siemens AG (SAG)  Volvo AB (Volvo Group)  A.P....</td>\n",
       "      <td>Meeting with Chairman of Volvo, Chairman of Si...</td>\n",
       "    </tr>\n",
       "  </tbody>\n",
       "</table>\n",
       "</div>"
      ],
      "text/plain": [
       "         Date         Location  \\\n",
       "0  03/09/2021    Evian, France   \n",
       "1  29/08/2021         Brussels   \n",
       "2  25/08/2021  Videoconference   \n",
       "3  19/07/2021         Brussels   \n",
       "4  09/07/2021         Brussels   \n",
       "5  24/04/2021         Brussels   \n",
       "6  29/03/2021  Videoconference   \n",
       "7  19/03/2021  Videoconference   \n",
       "8  20/02/2021  Videoconference   \n",
       "9  19/02/2021  Videoconference   \n",
       "\n",
       "                                      Entity/ies met  \\\n",
       "0                         Allianz SE (Allianz Group)   \n",
       "1            European Round Table for Industry (ERT)   \n",
       "2  Siemens AG (SAG)  Volvo AB (Volvo Group)  A.P....   \n",
       "3             Bill & Melinda Gates Foundation (BMGF)   \n",
       "4                                     Global Citizen   \n",
       "5    Potsdam-Institut für Klimafolgenforschung (PIK)   \n",
       "6  Siemens AG (SAG)  Volvo AB (Volvo Group)  A.P....   \n",
       "7   Bundesverband der Deutschen Industrie e.V. (BDI)   \n",
       "8                                     Global Citizen   \n",
       "9  Siemens AG (SAG)  Volvo AB (Volvo Group)  A.P....   \n",
       "\n",
       "                                          Subject(s)  \n",
       "0                        Meeting with CEO of Allianz  \n",
       "1  Dinner/ meeting with the ERT members on green ...  \n",
       "2  Videoconference with Chairman of Volvo, Chairm...  \n",
       "3  Meeting with Co-chairman and co-founder of the...  \n",
       "4           Meeting with the CEO from Global Citizen  \n",
       "5  Meeting with Founding Director of the Potsdam ...  \n",
       "6  Videoconference with Chairman of Volvo, Chairm...  \n",
       "7                         Meeting with BDI President  \n",
       "8           Meeting with the CEO from Global Citizen  \n",
       "9  Meeting with Chairman of Volvo, Chairman of Si...  "
      ]
     },
     "execution_count": 5,
     "metadata": {},
     "output_type": "execute_result"
    }
   ],
   "source": [
    "df"
   ]
  },
  {
   "cell_type": "markdown",
   "metadata": {},
   "source": [
    "And ta da! We have the first sheet of meetings. But to analyse all of the president meetings we need to pull the data from all the pages and combine them. First lets turn our little scraping code into a function. This might seem like a waste of time for one line of code, but this is a remarkably small amount of code for a scraper, so this is good practice for building more complex scrapers."
   ]
  },
  {
   "cell_type": "code",
   "execution_count": 6,
   "metadata": {},
   "outputs": [],
   "source": [
    "def EU_meeting_scraper(url):\n",
    "\n",
    "    df = pd.read_html(url)[0]\n",
    "\n",
    "    return df\n"
   ]
  },
  {
   "cell_type": "markdown",
   "metadata": {},
   "source": [
    "\n",
    "\n",
    "Notice how the url has `-p=1` at the end of it. A guess and a quick experiment in with the browser confirms the number `p` equals corresponds to the page of meetings. So to get all the pages we need to iterate through the pages using the urls."
   ]
  },
  {
   "cell_type": "markdown",
   "metadata": {},
   "source": [
    "Now we can get all the meetings on the site using a loop. Be sure to read the muted text around the code that explains what each bit of code is doing."
   ]
  },
  {
   "cell_type": "code",
   "execution_count": 22,
   "metadata": {},
   "outputs": [
    {
     "name": "stdout",
     "output_type": "stream",
     "text": [
      "1\n",
      "2\n",
      "3\n",
      "4\n",
      "5\n"
     ]
    }
   ],
   "source": [
    "page_number = 1 # Start at the first page \n",
    "\n",
    "df_list = [] # We create an empty list to add the meeting dataframes to as we go along\n",
    "while page_number <= 5: # There are only 5 pages of meetings on the page\n",
    "    print(page_number)\n",
    "\n",
    "    # Remember what we learnt earlier about how to turn numbers into strings so we can add them to text\n",
    "    url = 'http://ec.europa.eu/transparencyinitiative/meetings/meeting.do?host=c8e208ad-7dc2-4a97-acc9-859463c69ec4&d-6679426-p=' + str(page_number)\n",
    "\n",
    "    # Now we pull the data from url and save as the temporary database called df_temp\n",
    "    df_temp = EU_meeting_scraper(url)\n",
    "\n",
    "    # Now we add the temporary database df_temp to our list of databases\n",
    "    df_list.append(df_temp)\n",
    "\n",
    "    time.sleep(2) # Now we use the sleep function to tell python to wait for two seconds so we don't annoy the EU's servers too much\n",
    "\n",
    "    # Finally we add one to our page number so that we arn't pulling information from the same page over and over again. The EU really wouldn't like that.\n",
    "    page_number = page_number + 1\n",
    "\n",
    "    # Now the while loop will make Python run this code again untill the page_number is greater than 5. Hence, we are able to iterate through all the pages of tables.\n"
   ]
  },
  {
   "cell_type": "markdown",
   "metadata": {},
   "source": [
    "Now lets combine all the pages of data, which we have saved in `df_list`, into one dataset using the pandas `concat` function. Notice how the last dataframe has a list of numbers next to it. That is the index. We add `reset_index` to our code so it resets the index in the new combined dataframe, so the index doesn't repeat."
   ]
  },
  {
   "cell_type": "code",
   "execution_count": 23,
   "metadata": {},
   "outputs": [],
   "source": [
    "df = pd.concat(df_list).reset_index(drop=True)"
   ]
  },
  {
   "cell_type": "markdown",
   "metadata": {},
   "source": [
    "And we now have all the meetings!"
   ]
  },
  {
   "cell_type": "code",
   "execution_count": 24,
   "metadata": {},
   "outputs": [
    {
     "data": {
      "text/html": [
       "<div>\n",
       "<style scoped>\n",
       "    .dataframe tbody tr th:only-of-type {\n",
       "        vertical-align: middle;\n",
       "    }\n",
       "\n",
       "    .dataframe tbody tr th {\n",
       "        vertical-align: top;\n",
       "    }\n",
       "\n",
       "    .dataframe thead th {\n",
       "        text-align: right;\n",
       "    }\n",
       "</style>\n",
       "<table border=\"1\" class=\"dataframe\">\n",
       "  <thead>\n",
       "    <tr style=\"text-align: right;\">\n",
       "      <th></th>\n",
       "      <th>Date</th>\n",
       "      <th>Location</th>\n",
       "      <th>Entity/ies met</th>\n",
       "      <th>Subject(s)</th>\n",
       "    </tr>\n",
       "  </thead>\n",
       "  <tbody>\n",
       "    <tr>\n",
       "      <th>0</th>\n",
       "      <td>03/09/2021</td>\n",
       "      <td>Evian, France</td>\n",
       "      <td>Allianz SE (Allianz Group)</td>\n",
       "      <td>Meeting with CEO of Allianz</td>\n",
       "    </tr>\n",
       "    <tr>\n",
       "      <th>1</th>\n",
       "      <td>29/08/2021</td>\n",
       "      <td>Brussels</td>\n",
       "      <td>European Round Table for Industry (ERT)</td>\n",
       "      <td>Dinner/ meeting with the ERT members on green ...</td>\n",
       "    </tr>\n",
       "    <tr>\n",
       "      <th>2</th>\n",
       "      <td>25/08/2021</td>\n",
       "      <td>Videoconference</td>\n",
       "      <td>Siemens AG (SAG)  Volvo AB (Volvo Group)  A.P....</td>\n",
       "      <td>Videoconference with Chairman of Volvo, Chairm...</td>\n",
       "    </tr>\n",
       "    <tr>\n",
       "      <th>3</th>\n",
       "      <td>19/07/2021</td>\n",
       "      <td>Brussels</td>\n",
       "      <td>Bill &amp; Melinda Gates Foundation (BMGF)</td>\n",
       "      <td>Meeting with Co-chairman and co-founder of the...</td>\n",
       "    </tr>\n",
       "    <tr>\n",
       "      <th>4</th>\n",
       "      <td>09/07/2021</td>\n",
       "      <td>Brussels</td>\n",
       "      <td>Global Citizen</td>\n",
       "      <td>Meeting with the CEO from Global Citizen</td>\n",
       "    </tr>\n",
       "    <tr>\n",
       "      <th>5</th>\n",
       "      <td>24/04/2021</td>\n",
       "      <td>Brussels</td>\n",
       "      <td>Potsdam-Institut für Klimafolgenforschung (PIK)</td>\n",
       "      <td>Meeting with Founding Director of the Potsdam ...</td>\n",
       "    </tr>\n",
       "    <tr>\n",
       "      <th>6</th>\n",
       "      <td>29/03/2021</td>\n",
       "      <td>Videoconference</td>\n",
       "      <td>Siemens AG (SAG)  Volvo AB (Volvo Group)  A.P....</td>\n",
       "      <td>Videoconference with Chairman of Volvo, Chairm...</td>\n",
       "    </tr>\n",
       "    <tr>\n",
       "      <th>7</th>\n",
       "      <td>19/03/2021</td>\n",
       "      <td>Videoconference</td>\n",
       "      <td>Bundesverband der Deutschen Industrie e.V. (BDI)</td>\n",
       "      <td>Meeting with BDI President</td>\n",
       "    </tr>\n",
       "    <tr>\n",
       "      <th>8</th>\n",
       "      <td>20/02/2021</td>\n",
       "      <td>Videoconference</td>\n",
       "      <td>Global Citizen</td>\n",
       "      <td>Meeting with the CEO from Global Citizen</td>\n",
       "    </tr>\n",
       "    <tr>\n",
       "      <th>9</th>\n",
       "      <td>19/02/2021</td>\n",
       "      <td>Videoconference</td>\n",
       "      <td>Siemens AG (SAG)  Volvo AB (Volvo Group)  A.P....</td>\n",
       "      <td>Meeting with Chairman of Volvo, Chairman of Si...</td>\n",
       "    </tr>\n",
       "    <tr>\n",
       "      <th>10</th>\n",
       "      <td>05/02/2021</td>\n",
       "      <td>Videoconference</td>\n",
       "      <td>Global Citizen</td>\n",
       "      <td>Meeting with the CEO from Global Citizen</td>\n",
       "    </tr>\n",
       "    <tr>\n",
       "      <th>11</th>\n",
       "      <td>31/01/2021</td>\n",
       "      <td>Videoconference</td>\n",
       "      <td>AstraZeneca PLC BioNTech SE CureVac AG SANOFI ...</td>\n",
       "      <td>Meeting with CEOs of the pharmaceutical compan...</td>\n",
       "    </tr>\n",
       "    <tr>\n",
       "      <th>12</th>\n",
       "      <td>27/01/2021</td>\n",
       "      <td>Videoconference</td>\n",
       "      <td>Tony Blair Institute for Global Change (TBI)</td>\n",
       "      <td>Meeting with CEO Institute for Global Change</td>\n",
       "    </tr>\n",
       "    <tr>\n",
       "      <th>13</th>\n",
       "      <td>24/01/2021</td>\n",
       "      <td>Videoconference</td>\n",
       "      <td>Global Citizen</td>\n",
       "      <td>Meeting with the CEO from Global Citizen</td>\n",
       "    </tr>\n",
       "    <tr>\n",
       "      <th>14</th>\n",
       "      <td>22/01/2021</td>\n",
       "      <td>Videoconference</td>\n",
       "      <td>Global Citizen</td>\n",
       "      <td>Meeting with the CEO from Global Citizen</td>\n",
       "    </tr>\n",
       "    <tr>\n",
       "      <th>15</th>\n",
       "      <td>03/12/2020</td>\n",
       "      <td>Videoconference</td>\n",
       "      <td>Union of European Football Associations (UEFA)</td>\n",
       "      <td>Meeting with the President of UEFA</td>\n",
       "    </tr>\n",
       "    <tr>\n",
       "      <th>16</th>\n",
       "      <td>20/11/2020</td>\n",
       "      <td>Videoconference</td>\n",
       "      <td>Bill &amp; Melinda Gates Foundation (BMGF)</td>\n",
       "      <td>Meeting with Co-chairman and co-founder of the...</td>\n",
       "    </tr>\n",
       "    <tr>\n",
       "      <th>17</th>\n",
       "      <td>18/11/2020</td>\n",
       "      <td>Brussels</td>\n",
       "      <td>Gemeinnützige Hertie-Stiftung Institut Montaigne</td>\n",
       "      <td>Meeting with CEO of Hertie Stiftung and Presid...</td>\n",
       "    </tr>\n",
       "    <tr>\n",
       "      <th>18</th>\n",
       "      <td>13/11/2020</td>\n",
       "      <td>Videoconference</td>\n",
       "      <td>WePROTECT Global Alliance</td>\n",
       "      <td>Videoconference with Chairman of WePROTECT Glo...</td>\n",
       "    </tr>\n",
       "    <tr>\n",
       "      <th>19</th>\n",
       "      <td>06/11/2020</td>\n",
       "      <td>Videoconference</td>\n",
       "      <td>Siemens AG (SAG)  Volvo AB (Volvo Group)  A.P....</td>\n",
       "      <td>Videoconference with Chairman of Volvo, Chairm...</td>\n",
       "    </tr>\n",
       "    <tr>\n",
       "      <th>20</th>\n",
       "      <td>09/10/2020</td>\n",
       "      <td>Videoconference</td>\n",
       "      <td>Siemens AG (SAG)  Volvo AB (Volvo Group)  A.P....</td>\n",
       "      <td>Videoconference with Chairman of Volvo, Chairm...</td>\n",
       "    </tr>\n",
       "    <tr>\n",
       "      <th>21</th>\n",
       "      <td>21/09/2020</td>\n",
       "      <td>Videoconference</td>\n",
       "      <td>Global Citizen</td>\n",
       "      <td>Videoconference with CEO Global Citizen (Topic...</td>\n",
       "    </tr>\n",
       "    <tr>\n",
       "      <th>22</th>\n",
       "      <td>01/09/2020</td>\n",
       "      <td>Videoconference</td>\n",
       "      <td>Potsdam-Institut für Klimafolgenforschung (PIK)</td>\n",
       "      <td>Videoconference with former director of the Po...</td>\n",
       "    </tr>\n",
       "    <tr>\n",
       "      <th>23</th>\n",
       "      <td>22/07/2020</td>\n",
       "      <td>Videoconference</td>\n",
       "      <td>Siemens AG (SAG)  Volvo AB (Volvo Group)  A.P....</td>\n",
       "      <td>Videoconference with Chairman of Volvo, Chairm...</td>\n",
       "    </tr>\n",
       "    <tr>\n",
       "      <th>24</th>\n",
       "      <td>29/06/2020</td>\n",
       "      <td>Videoconference</td>\n",
       "      <td>Global Citizen</td>\n",
       "      <td>Videoconference with CEO Global Citizen (Topic...</td>\n",
       "    </tr>\n",
       "    <tr>\n",
       "      <th>25</th>\n",
       "      <td>20/06/2020</td>\n",
       "      <td>Berlin, Germany</td>\n",
       "      <td>Mercator Institute for China Studies (MERICS)</td>\n",
       "      <td>Meeting with the Executive Director (Exchange ...</td>\n",
       "    </tr>\n",
       "    <tr>\n",
       "      <th>26</th>\n",
       "      <td>12/06/2020</td>\n",
       "      <td>Videoconference</td>\n",
       "      <td>Global Citizen</td>\n",
       "      <td>Videoconfere with CEO of Global Citizen (Topic...</td>\n",
       "    </tr>\n",
       "    <tr>\n",
       "      <th>27</th>\n",
       "      <td>12/06/2020</td>\n",
       "      <td>Videoconference</td>\n",
       "      <td>Teneo Brussels Global Citizen Amgen Inc</td>\n",
       "      <td>Videoconference CEO of Amgen and CEO of Teneo ...</td>\n",
       "    </tr>\n",
       "    <tr>\n",
       "      <th>28</th>\n",
       "      <td>12/06/2020</td>\n",
       "      <td>Videconference</td>\n",
       "      <td>Volvo Car Corporation AB (Volvo Cars)  Siemens...</td>\n",
       "      <td>Videoconference with Chairman of Volvo, Chairm...</td>\n",
       "    </tr>\n",
       "    <tr>\n",
       "      <th>29</th>\n",
       "      <td>24/05/2020</td>\n",
       "      <td>Videoconference</td>\n",
       "      <td>Global Citizen</td>\n",
       "      <td>Videoconference with CEO Global Citizen (Topic...</td>\n",
       "    </tr>\n",
       "    <tr>\n",
       "      <th>30</th>\n",
       "      <td>19/05/2020</td>\n",
       "      <td>Videoconference</td>\n",
       "      <td>Siemens AG (SAG)  Volvo AB (Volvo Group)  A.P....</td>\n",
       "      <td>Videoconference with Chairman of Volvo, Chairm...</td>\n",
       "    </tr>\n",
       "    <tr>\n",
       "      <th>31</th>\n",
       "      <td>15/05/2020</td>\n",
       "      <td>Videoconference</td>\n",
       "      <td>BUSINESSEUROPE</td>\n",
       "      <td>Meeting with the President and Director-Genera...</td>\n",
       "    </tr>\n",
       "    <tr>\n",
       "      <th>32</th>\n",
       "      <td>11/05/2020</td>\n",
       "      <td>Videoconference</td>\n",
       "      <td>EUROPEAN TRADE UNION CONFEDERATION (ETUC)</td>\n",
       "      <td>Videoconference with the President and General...</td>\n",
       "    </tr>\n",
       "    <tr>\n",
       "      <th>33</th>\n",
       "      <td>30/04/2020</td>\n",
       "      <td>Videoconference</td>\n",
       "      <td>Siemens AG (SAG)  Volvo AB (Volvo Group)  A.P....</td>\n",
       "      <td>Videoconference with Chairman of Volvo, Chairm...</td>\n",
       "    </tr>\n",
       "    <tr>\n",
       "      <th>34</th>\n",
       "      <td>21/04/2020</td>\n",
       "      <td>Videoconference</td>\n",
       "      <td>Deutscher Gewerkschaftsbund (DGB)</td>\n",
       "      <td>Videoconference with the Chairman of DGB</td>\n",
       "    </tr>\n",
       "    <tr>\n",
       "      <th>35</th>\n",
       "      <td>17/04/2020</td>\n",
       "      <td>Videoconference</td>\n",
       "      <td>Siemens AG (SAG)  Volvo AB (Volvo Group)  A.P....</td>\n",
       "      <td>Videoconference with Chairman of Volvo, Chairm...</td>\n",
       "    </tr>\n",
       "    <tr>\n",
       "      <th>36</th>\n",
       "      <td>25/03/2020</td>\n",
       "      <td>Videoconference</td>\n",
       "      <td>MONDRAGON CORPORACION COOPERATIVA S. COOP (MON...</td>\n",
       "      <td>Videoconference with CEOs on COVID-19</td>\n",
       "    </tr>\n",
       "    <tr>\n",
       "      <th>37</th>\n",
       "      <td>16/03/2020</td>\n",
       "      <td>Videoconference</td>\n",
       "      <td>CureVac AG</td>\n",
       "      <td>Videconderence with CureVac representatives on...</td>\n",
       "    </tr>\n",
       "    <tr>\n",
       "      <th>38</th>\n",
       "      <td>18/02/2020</td>\n",
       "      <td>Brussels</td>\n",
       "      <td>The Wallenberg Foundations AB Investor AB (Inv...</td>\n",
       "      <td>Meeting with Chair of Wallenberg Foundations, ...</td>\n",
       "    </tr>\n",
       "    <tr>\n",
       "      <th>39</th>\n",
       "      <td>22/01/2020</td>\n",
       "      <td>Davos</td>\n",
       "      <td>Palantir Technologies Inc.</td>\n",
       "      <td>Meeting with the CEO</td>\n",
       "    </tr>\n",
       "    <tr>\n",
       "      <th>40</th>\n",
       "      <td>22/01/2020</td>\n",
       "      <td>Davos</td>\n",
       "      <td>Apple Inc.</td>\n",
       "      <td>Meeting with the Apple CEO (Topic: EU Green De...</td>\n",
       "    </tr>\n",
       "    <tr>\n",
       "      <th>41</th>\n",
       "      <td>21/01/2020</td>\n",
       "      <td>Davos</td>\n",
       "      <td>AXA</td>\n",
       "      <td>Meeting with Group CEO AXA (Topic: EU Green De...</td>\n",
       "    </tr>\n",
       "    <tr>\n",
       "      <th>42</th>\n",
       "      <td>07/01/2020</td>\n",
       "      <td>Brussels</td>\n",
       "      <td>EUROPEAN TRADE UNION CONFEDERATION (ETUC)</td>\n",
       "      <td>Meeting with General-Secretary ETUC</td>\n",
       "    </tr>\n",
       "    <tr>\n",
       "      <th>43</th>\n",
       "      <td>19/12/2019</td>\n",
       "      <td>Brussels</td>\n",
       "      <td>BUSINESSEUROPE</td>\n",
       "      <td>Meeting with the President and Director General</td>\n",
       "    </tr>\n",
       "  </tbody>\n",
       "</table>\n",
       "</div>"
      ],
      "text/plain": [
       "          Date         Location  \\\n",
       "0   03/09/2021    Evian, France   \n",
       "1   29/08/2021         Brussels   \n",
       "2   25/08/2021  Videoconference   \n",
       "3   19/07/2021         Brussels   \n",
       "4   09/07/2021         Brussels   \n",
       "5   24/04/2021         Brussels   \n",
       "6   29/03/2021  Videoconference   \n",
       "7   19/03/2021  Videoconference   \n",
       "8   20/02/2021  Videoconference   \n",
       "9   19/02/2021  Videoconference   \n",
       "10  05/02/2021  Videoconference   \n",
       "11  31/01/2021  Videoconference   \n",
       "12  27/01/2021  Videoconference   \n",
       "13  24/01/2021  Videoconference   \n",
       "14  22/01/2021  Videoconference   \n",
       "15  03/12/2020  Videoconference   \n",
       "16  20/11/2020  Videoconference   \n",
       "17  18/11/2020         Brussels   \n",
       "18  13/11/2020  Videoconference   \n",
       "19  06/11/2020  Videoconference   \n",
       "20  09/10/2020  Videoconference   \n",
       "21  21/09/2020  Videoconference   \n",
       "22  01/09/2020  Videoconference   \n",
       "23  22/07/2020  Videoconference   \n",
       "24  29/06/2020  Videoconference   \n",
       "25  20/06/2020  Berlin, Germany   \n",
       "26  12/06/2020  Videoconference   \n",
       "27  12/06/2020  Videoconference   \n",
       "28  12/06/2020   Videconference   \n",
       "29  24/05/2020  Videoconference   \n",
       "30  19/05/2020  Videoconference   \n",
       "31  15/05/2020  Videoconference   \n",
       "32  11/05/2020  Videoconference   \n",
       "33  30/04/2020  Videoconference   \n",
       "34  21/04/2020  Videoconference   \n",
       "35  17/04/2020  Videoconference   \n",
       "36  25/03/2020  Videoconference   \n",
       "37  16/03/2020  Videoconference   \n",
       "38  18/02/2020         Brussels   \n",
       "39  22/01/2020            Davos   \n",
       "40  22/01/2020            Davos   \n",
       "41  21/01/2020            Davos   \n",
       "42  07/01/2020         Brussels   \n",
       "43  19/12/2019         Brussels   \n",
       "\n",
       "                                       Entity/ies met  \\\n",
       "0                          Allianz SE (Allianz Group)   \n",
       "1             European Round Table for Industry (ERT)   \n",
       "2   Siemens AG (SAG)  Volvo AB (Volvo Group)  A.P....   \n",
       "3              Bill & Melinda Gates Foundation (BMGF)   \n",
       "4                                      Global Citizen   \n",
       "5     Potsdam-Institut für Klimafolgenforschung (PIK)   \n",
       "6   Siemens AG (SAG)  Volvo AB (Volvo Group)  A.P....   \n",
       "7    Bundesverband der Deutschen Industrie e.V. (BDI)   \n",
       "8                                      Global Citizen   \n",
       "9   Siemens AG (SAG)  Volvo AB (Volvo Group)  A.P....   \n",
       "10                                     Global Citizen   \n",
       "11  AstraZeneca PLC BioNTech SE CureVac AG SANOFI ...   \n",
       "12       Tony Blair Institute for Global Change (TBI)   \n",
       "13                                     Global Citizen   \n",
       "14                                     Global Citizen   \n",
       "15     Union of European Football Associations (UEFA)   \n",
       "16             Bill & Melinda Gates Foundation (BMGF)   \n",
       "17   Gemeinnützige Hertie-Stiftung Institut Montaigne   \n",
       "18                          WePROTECT Global Alliance   \n",
       "19  Siemens AG (SAG)  Volvo AB (Volvo Group)  A.P....   \n",
       "20  Siemens AG (SAG)  Volvo AB (Volvo Group)  A.P....   \n",
       "21                                     Global Citizen   \n",
       "22    Potsdam-Institut für Klimafolgenforschung (PIK)   \n",
       "23  Siemens AG (SAG)  Volvo AB (Volvo Group)  A.P....   \n",
       "24                                     Global Citizen   \n",
       "25      Mercator Institute for China Studies (MERICS)   \n",
       "26                                     Global Citizen   \n",
       "27            Teneo Brussels Global Citizen Amgen Inc   \n",
       "28  Volvo Car Corporation AB (Volvo Cars)  Siemens...   \n",
       "29                                     Global Citizen   \n",
       "30  Siemens AG (SAG)  Volvo AB (Volvo Group)  A.P....   \n",
       "31                                     BUSINESSEUROPE   \n",
       "32          EUROPEAN TRADE UNION CONFEDERATION (ETUC)   \n",
       "33  Siemens AG (SAG)  Volvo AB (Volvo Group)  A.P....   \n",
       "34                  Deutscher Gewerkschaftsbund (DGB)   \n",
       "35  Siemens AG (SAG)  Volvo AB (Volvo Group)  A.P....   \n",
       "36  MONDRAGON CORPORACION COOPERATIVA S. COOP (MON...   \n",
       "37                                         CureVac AG   \n",
       "38  The Wallenberg Foundations AB Investor AB (Inv...   \n",
       "39                         Palantir Technologies Inc.   \n",
       "40                                         Apple Inc.   \n",
       "41                                                AXA   \n",
       "42          EUROPEAN TRADE UNION CONFEDERATION (ETUC)   \n",
       "43                                     BUSINESSEUROPE   \n",
       "\n",
       "                                           Subject(s)  \n",
       "0                         Meeting with CEO of Allianz  \n",
       "1   Dinner/ meeting with the ERT members on green ...  \n",
       "2   Videoconference with Chairman of Volvo, Chairm...  \n",
       "3   Meeting with Co-chairman and co-founder of the...  \n",
       "4            Meeting with the CEO from Global Citizen  \n",
       "5   Meeting with Founding Director of the Potsdam ...  \n",
       "6   Videoconference with Chairman of Volvo, Chairm...  \n",
       "7                          Meeting with BDI President  \n",
       "8            Meeting with the CEO from Global Citizen  \n",
       "9   Meeting with Chairman of Volvo, Chairman of Si...  \n",
       "10           Meeting with the CEO from Global Citizen  \n",
       "11  Meeting with CEOs of the pharmaceutical compan...  \n",
       "12       Meeting with CEO Institute for Global Change  \n",
       "13           Meeting with the CEO from Global Citizen  \n",
       "14           Meeting with the CEO from Global Citizen  \n",
       "15                 Meeting with the President of UEFA  \n",
       "16  Meeting with Co-chairman and co-founder of the...  \n",
       "17  Meeting with CEO of Hertie Stiftung and Presid...  \n",
       "18  Videoconference with Chairman of WePROTECT Glo...  \n",
       "19  Videoconference with Chairman of Volvo, Chairm...  \n",
       "20  Videoconference with Chairman of Volvo, Chairm...  \n",
       "21  Videoconference with CEO Global Citizen (Topic...  \n",
       "22  Videoconference with former director of the Po...  \n",
       "23  Videoconference with Chairman of Volvo, Chairm...  \n",
       "24  Videoconference with CEO Global Citizen (Topic...  \n",
       "25  Meeting with the Executive Director (Exchange ...  \n",
       "26  Videoconfere with CEO of Global Citizen (Topic...  \n",
       "27  Videoconference CEO of Amgen and CEO of Teneo ...  \n",
       "28  Videoconference with Chairman of Volvo, Chairm...  \n",
       "29  Videoconference with CEO Global Citizen (Topic...  \n",
       "30  Videoconference with Chairman of Volvo, Chairm...  \n",
       "31  Meeting with the President and Director-Genera...  \n",
       "32  Videoconference with the President and General...  \n",
       "33  Videoconference with Chairman of Volvo, Chairm...  \n",
       "34           Videoconference with the Chairman of DGB  \n",
       "35  Videoconference with Chairman of Volvo, Chairm...  \n",
       "36              Videoconference with CEOs on COVID-19  \n",
       "37  Videconderence with CureVac representatives on...  \n",
       "38  Meeting with Chair of Wallenberg Foundations, ...  \n",
       "39                               Meeting with the CEO  \n",
       "40  Meeting with the Apple CEO (Topic: EU Green De...  \n",
       "41  Meeting with Group CEO AXA (Topic: EU Green De...  \n",
       "42                Meeting with General-Secretary ETUC  \n",
       "43    Meeting with the President and Director General  "
      ]
     },
     "execution_count": 24,
     "metadata": {},
     "output_type": "execute_result"
    }
   ],
   "source": [
    "df"
   ]
  },
  {
   "cell_type": "markdown",
   "metadata": {},
   "source": [
    "If we wanted to save this data all we need to do is run the following code to save it as a csv file. Pandas has a function called `to_csv()` that takes a file path and creates the file and saves your data in it. \n",
    "\n",
    "A csv (comma separated values) file is a simple format for saving tables and commongly used in coding as it is a simple format for programs to read and write data too. Once generated you should be able to download your csv file and open it in Excel or Google sheets."
   ]
  },
  {
   "cell_type": "code",
   "execution_count": 27,
   "metadata": {},
   "outputs": [],
   "source": [
    "df.to_csv('Leyen_meetings.csv', index=False) # Notice how pandas lists numbers next to the table, this is the index. Because we don't want that in the outputed file, we included index=False as a parameter in the function\n"
   ]
  },
  {
   "cell_type": "markdown",
   "metadata": {},
   "source": [
    "## Analyzing this data"
   ]
  },
  {
   "cell_type": "markdown",
   "metadata": {},
   "source": [
    "Now lets analyse the data. To do this we can use the host of useful features in Pandas. Lets start with a simple analysis. Where did President Ursula von der Leyen have the most meetings?\n",
    "\n",
    "To do this we can use the Pandas `.value_counts()` function. This will create a list of places and how often a meeting happened there. We add the `to_dict` function to the end of this code to turn it into a dictionary."
   ]
  },
  {
   "cell_type": "code",
   "execution_count": 28,
   "metadata": {},
   "outputs": [
    {
     "data": {
      "text/plain": [
       "{'Videoconference': 30,\n",
       " 'Brussels': 8,\n",
       " 'Davos': 3,\n",
       " 'Berlin, Germany': 1,\n",
       " 'Videconference': 1,\n",
       " 'Evian, France': 1}"
      ]
     },
     "execution_count": 28,
     "metadata": {},
     "output_type": "execute_result"
    }
   ],
   "source": [
    "location_count = df['Location'].value_counts().to_dict()\n",
    "\n",
    "location_count"
   ]
  },
  {
   "cell_type": "markdown",
   "metadata": {},
   "source": [
    "Okay no surprise that Video conference is the most common meeting location. Lets now create a bar chart showing this distribution.\n",
    "\n",
    "First though, lets quickly data into it's own dataframe. Remember how we are able to iterate through lists, we can also iterate through a dictionary values and turn it into an array. Pandas can then read this array and turn it into a dataframe."
   ]
  },
  {
   "cell_type": "code",
   "execution_count": 30,
   "metadata": {},
   "outputs": [
    {
     "name": "stdout",
     "output_type": "stream",
     "text": [
      "Videoconference\n",
      "Brussels\n",
      "Davos\n",
      "Berlin, Germany\n",
      "Videconference\n",
      "Evian, France\n"
     ]
    }
   ],
   "source": [
    "location_data = [] # First we create an empty array to add data to\n",
    "for location in location_count: # This iterates through the location names\n",
    "    print(location)\n",
    "\n",
    "    number_of_meetings = location_count[location] # This returns the number of meetings in that location\n",
    "\n",
    "    location_data.append([location, number_of_meetings]) # This code creates a new row with the location and number of meetings in that location and adds it to our array\n"
   ]
  },
  {
   "cell_type": "markdown",
   "metadata": {},
   "source": [
    "Finally lets turn this array into a dataframe to make it easier to analyse"
   ]
  },
  {
   "cell_type": "code",
   "execution_count": 33,
   "metadata": {},
   "outputs": [
    {
     "data": {
      "text/html": [
       "<div>\n",
       "<style scoped>\n",
       "    .dataframe tbody tr th:only-of-type {\n",
       "        vertical-align: middle;\n",
       "    }\n",
       "\n",
       "    .dataframe tbody tr th {\n",
       "        vertical-align: top;\n",
       "    }\n",
       "\n",
       "    .dataframe thead th {\n",
       "        text-align: right;\n",
       "    }\n",
       "</style>\n",
       "<table border=\"1\" class=\"dataframe\">\n",
       "  <thead>\n",
       "    <tr style=\"text-align: right;\">\n",
       "      <th></th>\n",
       "      <th>Location</th>\n",
       "      <th>Number of meetings</th>\n",
       "    </tr>\n",
       "  </thead>\n",
       "  <tbody>\n",
       "    <tr>\n",
       "      <th>0</th>\n",
       "      <td>Videoconference</td>\n",
       "      <td>30</td>\n",
       "    </tr>\n",
       "    <tr>\n",
       "      <th>1</th>\n",
       "      <td>Brussels</td>\n",
       "      <td>8</td>\n",
       "    </tr>\n",
       "    <tr>\n",
       "      <th>2</th>\n",
       "      <td>Davos</td>\n",
       "      <td>3</td>\n",
       "    </tr>\n",
       "    <tr>\n",
       "      <th>3</th>\n",
       "      <td>Berlin, Germany</td>\n",
       "      <td>1</td>\n",
       "    </tr>\n",
       "    <tr>\n",
       "      <th>4</th>\n",
       "      <td>Videconference</td>\n",
       "      <td>1</td>\n",
       "    </tr>\n",
       "    <tr>\n",
       "      <th>5</th>\n",
       "      <td>Evian, France</td>\n",
       "      <td>1</td>\n",
       "    </tr>\n",
       "  </tbody>\n",
       "</table>\n",
       "</div>"
      ],
      "text/plain": [
       "          Location  Number of meetings\n",
       "0  Videoconference                  30\n",
       "1         Brussels                   8\n",
       "2            Davos                   3\n",
       "3  Berlin, Germany                   1\n",
       "4   Videconference                   1\n",
       "5    Evian, France                   1"
      ]
     },
     "execution_count": 33,
     "metadata": {},
     "output_type": "execute_result"
    }
   ],
   "source": [
    "\n",
    "location_df = pd.DataFrame(location_data, columns=[\n",
    "                           'Location', 'Number of meetings'])\n",
    "\n",
    "location_df\n"
   ]
  },
  {
   "cell_type": "markdown",
   "metadata": {},
   "source": [
    "## Plotting this data\n",
    "Finally lets plot this data using the Python library [Plotly](https://plotly.com/python/) module. Plotly is a great module for data visualization that makes it easy to create interactive graphs packed full of features. To install Plotly just run the following code:\n"
   ]
  },
  {
   "cell_type": "code",
   "execution_count": null,
   "metadata": {},
   "outputs": [],
   "source": [
    "pip install plotly"
   ]
  },
  {
   "cell_type": "markdown",
   "metadata": {},
   "source": [
    "\n",
    "Plotly has a tool called Plotly Express that makes it easy to make graphs from Pandas dataframes. "
   ]
  },
  {
   "cell_type": "code",
   "execution_count": 37,
   "metadata": {},
   "outputs": [
    {
     "data": {
      "application/vnd.plotly.v1+json": {
       "config": {
        "plotlyServerURL": "https://plot.ly"
       },
       "data": [
        {
         "alignmentgroup": "True",
         "hovertemplate": "Location=%{x}<br>Number of meetings=%{y}<extra></extra>",
         "legendgroup": "",
         "marker": {
          "color": "#636efa"
         },
         "name": "",
         "offsetgroup": "",
         "orientation": "v",
         "showlegend": false,
         "textposition": "auto",
         "type": "bar",
         "x": [
          "Videoconference",
          "Brussels",
          "Davos",
          "Berlin, Germany",
          "Videconference",
          "Evian, France"
         ],
         "xaxis": "x",
         "y": [
          30,
          8,
          3,
          1,
          1,
          1
         ],
         "yaxis": "y"
        }
       ],
       "layout": {
        "barmode": "relative",
        "legend": {
         "tracegroupgap": 0
        },
        "margin": {
         "t": 60
        },
        "template": {
         "data": {
          "bar": [
           {
            "error_x": {
             "color": "#2a3f5f"
            },
            "error_y": {
             "color": "#2a3f5f"
            },
            "marker": {
             "line": {
              "color": "#E5ECF6",
              "width": 0.5
             }
            },
            "type": "bar"
           }
          ],
          "barpolar": [
           {
            "marker": {
             "line": {
              "color": "#E5ECF6",
              "width": 0.5
             }
            },
            "type": "barpolar"
           }
          ],
          "carpet": [
           {
            "aaxis": {
             "endlinecolor": "#2a3f5f",
             "gridcolor": "white",
             "linecolor": "white",
             "minorgridcolor": "white",
             "startlinecolor": "#2a3f5f"
            },
            "baxis": {
             "endlinecolor": "#2a3f5f",
             "gridcolor": "white",
             "linecolor": "white",
             "minorgridcolor": "white",
             "startlinecolor": "#2a3f5f"
            },
            "type": "carpet"
           }
          ],
          "choropleth": [
           {
            "colorbar": {
             "outlinewidth": 0,
             "ticks": ""
            },
            "type": "choropleth"
           }
          ],
          "contour": [
           {
            "colorbar": {
             "outlinewidth": 0,
             "ticks": ""
            },
            "colorscale": [
             [
              0,
              "#0d0887"
             ],
             [
              0.1111111111111111,
              "#46039f"
             ],
             [
              0.2222222222222222,
              "#7201a8"
             ],
             [
              0.3333333333333333,
              "#9c179e"
             ],
             [
              0.4444444444444444,
              "#bd3786"
             ],
             [
              0.5555555555555556,
              "#d8576b"
             ],
             [
              0.6666666666666666,
              "#ed7953"
             ],
             [
              0.7777777777777778,
              "#fb9f3a"
             ],
             [
              0.8888888888888888,
              "#fdca26"
             ],
             [
              1,
              "#f0f921"
             ]
            ],
            "type": "contour"
           }
          ],
          "contourcarpet": [
           {
            "colorbar": {
             "outlinewidth": 0,
             "ticks": ""
            },
            "type": "contourcarpet"
           }
          ],
          "heatmap": [
           {
            "colorbar": {
             "outlinewidth": 0,
             "ticks": ""
            },
            "colorscale": [
             [
              0,
              "#0d0887"
             ],
             [
              0.1111111111111111,
              "#46039f"
             ],
             [
              0.2222222222222222,
              "#7201a8"
             ],
             [
              0.3333333333333333,
              "#9c179e"
             ],
             [
              0.4444444444444444,
              "#bd3786"
             ],
             [
              0.5555555555555556,
              "#d8576b"
             ],
             [
              0.6666666666666666,
              "#ed7953"
             ],
             [
              0.7777777777777778,
              "#fb9f3a"
             ],
             [
              0.8888888888888888,
              "#fdca26"
             ],
             [
              1,
              "#f0f921"
             ]
            ],
            "type": "heatmap"
           }
          ],
          "heatmapgl": [
           {
            "colorbar": {
             "outlinewidth": 0,
             "ticks": ""
            },
            "colorscale": [
             [
              0,
              "#0d0887"
             ],
             [
              0.1111111111111111,
              "#46039f"
             ],
             [
              0.2222222222222222,
              "#7201a8"
             ],
             [
              0.3333333333333333,
              "#9c179e"
             ],
             [
              0.4444444444444444,
              "#bd3786"
             ],
             [
              0.5555555555555556,
              "#d8576b"
             ],
             [
              0.6666666666666666,
              "#ed7953"
             ],
             [
              0.7777777777777778,
              "#fb9f3a"
             ],
             [
              0.8888888888888888,
              "#fdca26"
             ],
             [
              1,
              "#f0f921"
             ]
            ],
            "type": "heatmapgl"
           }
          ],
          "histogram": [
           {
            "marker": {
             "colorbar": {
              "outlinewidth": 0,
              "ticks": ""
             }
            },
            "type": "histogram"
           }
          ],
          "histogram2d": [
           {
            "colorbar": {
             "outlinewidth": 0,
             "ticks": ""
            },
            "colorscale": [
             [
              0,
              "#0d0887"
             ],
             [
              0.1111111111111111,
              "#46039f"
             ],
             [
              0.2222222222222222,
              "#7201a8"
             ],
             [
              0.3333333333333333,
              "#9c179e"
             ],
             [
              0.4444444444444444,
              "#bd3786"
             ],
             [
              0.5555555555555556,
              "#d8576b"
             ],
             [
              0.6666666666666666,
              "#ed7953"
             ],
             [
              0.7777777777777778,
              "#fb9f3a"
             ],
             [
              0.8888888888888888,
              "#fdca26"
             ],
             [
              1,
              "#f0f921"
             ]
            ],
            "type": "histogram2d"
           }
          ],
          "histogram2dcontour": [
           {
            "colorbar": {
             "outlinewidth": 0,
             "ticks": ""
            },
            "colorscale": [
             [
              0,
              "#0d0887"
             ],
             [
              0.1111111111111111,
              "#46039f"
             ],
             [
              0.2222222222222222,
              "#7201a8"
             ],
             [
              0.3333333333333333,
              "#9c179e"
             ],
             [
              0.4444444444444444,
              "#bd3786"
             ],
             [
              0.5555555555555556,
              "#d8576b"
             ],
             [
              0.6666666666666666,
              "#ed7953"
             ],
             [
              0.7777777777777778,
              "#fb9f3a"
             ],
             [
              0.8888888888888888,
              "#fdca26"
             ],
             [
              1,
              "#f0f921"
             ]
            ],
            "type": "histogram2dcontour"
           }
          ],
          "mesh3d": [
           {
            "colorbar": {
             "outlinewidth": 0,
             "ticks": ""
            },
            "type": "mesh3d"
           }
          ],
          "parcoords": [
           {
            "line": {
             "colorbar": {
              "outlinewidth": 0,
              "ticks": ""
             }
            },
            "type": "parcoords"
           }
          ],
          "pie": [
           {
            "automargin": true,
            "type": "pie"
           }
          ],
          "scatter": [
           {
            "marker": {
             "colorbar": {
              "outlinewidth": 0,
              "ticks": ""
             }
            },
            "type": "scatter"
           }
          ],
          "scatter3d": [
           {
            "line": {
             "colorbar": {
              "outlinewidth": 0,
              "ticks": ""
             }
            },
            "marker": {
             "colorbar": {
              "outlinewidth": 0,
              "ticks": ""
             }
            },
            "type": "scatter3d"
           }
          ],
          "scattercarpet": [
           {
            "marker": {
             "colorbar": {
              "outlinewidth": 0,
              "ticks": ""
             }
            },
            "type": "scattercarpet"
           }
          ],
          "scattergeo": [
           {
            "marker": {
             "colorbar": {
              "outlinewidth": 0,
              "ticks": ""
             }
            },
            "type": "scattergeo"
           }
          ],
          "scattergl": [
           {
            "marker": {
             "colorbar": {
              "outlinewidth": 0,
              "ticks": ""
             }
            },
            "type": "scattergl"
           }
          ],
          "scattermapbox": [
           {
            "marker": {
             "colorbar": {
              "outlinewidth": 0,
              "ticks": ""
             }
            },
            "type": "scattermapbox"
           }
          ],
          "scatterpolar": [
           {
            "marker": {
             "colorbar": {
              "outlinewidth": 0,
              "ticks": ""
             }
            },
            "type": "scatterpolar"
           }
          ],
          "scatterpolargl": [
           {
            "marker": {
             "colorbar": {
              "outlinewidth": 0,
              "ticks": ""
             }
            },
            "type": "scatterpolargl"
           }
          ],
          "scatterternary": [
           {
            "marker": {
             "colorbar": {
              "outlinewidth": 0,
              "ticks": ""
             }
            },
            "type": "scatterternary"
           }
          ],
          "surface": [
           {
            "colorbar": {
             "outlinewidth": 0,
             "ticks": ""
            },
            "colorscale": [
             [
              0,
              "#0d0887"
             ],
             [
              0.1111111111111111,
              "#46039f"
             ],
             [
              0.2222222222222222,
              "#7201a8"
             ],
             [
              0.3333333333333333,
              "#9c179e"
             ],
             [
              0.4444444444444444,
              "#bd3786"
             ],
             [
              0.5555555555555556,
              "#d8576b"
             ],
             [
              0.6666666666666666,
              "#ed7953"
             ],
             [
              0.7777777777777778,
              "#fb9f3a"
             ],
             [
              0.8888888888888888,
              "#fdca26"
             ],
             [
              1,
              "#f0f921"
             ]
            ],
            "type": "surface"
           }
          ],
          "table": [
           {
            "cells": {
             "fill": {
              "color": "#EBF0F8"
             },
             "line": {
              "color": "white"
             }
            },
            "header": {
             "fill": {
              "color": "#C8D4E3"
             },
             "line": {
              "color": "white"
             }
            },
            "type": "table"
           }
          ]
         },
         "layout": {
          "annotationdefaults": {
           "arrowcolor": "#2a3f5f",
           "arrowhead": 0,
           "arrowwidth": 1
          },
          "coloraxis": {
           "colorbar": {
            "outlinewidth": 0,
            "ticks": ""
           }
          },
          "colorscale": {
           "diverging": [
            [
             0,
             "#8e0152"
            ],
            [
             0.1,
             "#c51b7d"
            ],
            [
             0.2,
             "#de77ae"
            ],
            [
             0.3,
             "#f1b6da"
            ],
            [
             0.4,
             "#fde0ef"
            ],
            [
             0.5,
             "#f7f7f7"
            ],
            [
             0.6,
             "#e6f5d0"
            ],
            [
             0.7,
             "#b8e186"
            ],
            [
             0.8,
             "#7fbc41"
            ],
            [
             0.9,
             "#4d9221"
            ],
            [
             1,
             "#276419"
            ]
           ],
           "sequential": [
            [
             0,
             "#0d0887"
            ],
            [
             0.1111111111111111,
             "#46039f"
            ],
            [
             0.2222222222222222,
             "#7201a8"
            ],
            [
             0.3333333333333333,
             "#9c179e"
            ],
            [
             0.4444444444444444,
             "#bd3786"
            ],
            [
             0.5555555555555556,
             "#d8576b"
            ],
            [
             0.6666666666666666,
             "#ed7953"
            ],
            [
             0.7777777777777778,
             "#fb9f3a"
            ],
            [
             0.8888888888888888,
             "#fdca26"
            ],
            [
             1,
             "#f0f921"
            ]
           ],
           "sequentialminus": [
            [
             0,
             "#0d0887"
            ],
            [
             0.1111111111111111,
             "#46039f"
            ],
            [
             0.2222222222222222,
             "#7201a8"
            ],
            [
             0.3333333333333333,
             "#9c179e"
            ],
            [
             0.4444444444444444,
             "#bd3786"
            ],
            [
             0.5555555555555556,
             "#d8576b"
            ],
            [
             0.6666666666666666,
             "#ed7953"
            ],
            [
             0.7777777777777778,
             "#fb9f3a"
            ],
            [
             0.8888888888888888,
             "#fdca26"
            ],
            [
             1,
             "#f0f921"
            ]
           ]
          },
          "colorway": [
           "#636efa",
           "#EF553B",
           "#00cc96",
           "#ab63fa",
           "#FFA15A",
           "#19d3f3",
           "#FF6692",
           "#B6E880",
           "#FF97FF",
           "#FECB52"
          ],
          "font": {
           "color": "#2a3f5f"
          },
          "geo": {
           "bgcolor": "white",
           "lakecolor": "white",
           "landcolor": "#E5ECF6",
           "showlakes": true,
           "showland": true,
           "subunitcolor": "white"
          },
          "hoverlabel": {
           "align": "left"
          },
          "hovermode": "closest",
          "mapbox": {
           "style": "light"
          },
          "paper_bgcolor": "white",
          "plot_bgcolor": "#E5ECF6",
          "polar": {
           "angularaxis": {
            "gridcolor": "white",
            "linecolor": "white",
            "ticks": ""
           },
           "bgcolor": "#E5ECF6",
           "radialaxis": {
            "gridcolor": "white",
            "linecolor": "white",
            "ticks": ""
           }
          },
          "scene": {
           "xaxis": {
            "backgroundcolor": "#E5ECF6",
            "gridcolor": "white",
            "gridwidth": 2,
            "linecolor": "white",
            "showbackground": true,
            "ticks": "",
            "zerolinecolor": "white"
           },
           "yaxis": {
            "backgroundcolor": "#E5ECF6",
            "gridcolor": "white",
            "gridwidth": 2,
            "linecolor": "white",
            "showbackground": true,
            "ticks": "",
            "zerolinecolor": "white"
           },
           "zaxis": {
            "backgroundcolor": "#E5ECF6",
            "gridcolor": "white",
            "gridwidth": 2,
            "linecolor": "white",
            "showbackground": true,
            "ticks": "",
            "zerolinecolor": "white"
           }
          },
          "shapedefaults": {
           "line": {
            "color": "#2a3f5f"
           }
          },
          "ternary": {
           "aaxis": {
            "gridcolor": "white",
            "linecolor": "white",
            "ticks": ""
           },
           "baxis": {
            "gridcolor": "white",
            "linecolor": "white",
            "ticks": ""
           },
           "bgcolor": "#E5ECF6",
           "caxis": {
            "gridcolor": "white",
            "linecolor": "white",
            "ticks": ""
           }
          },
          "title": {
           "x": 0.05
          },
          "xaxis": {
           "automargin": true,
           "gridcolor": "white",
           "linecolor": "white",
           "ticks": "",
           "title": {
            "standoff": 15
           },
           "zerolinecolor": "white",
           "zerolinewidth": 2
          },
          "yaxis": {
           "automargin": true,
           "gridcolor": "white",
           "linecolor": "white",
           "ticks": "",
           "title": {
            "standoff": 15
           },
           "zerolinecolor": "white",
           "zerolinewidth": 2
          }
         }
        },
        "xaxis": {
         "anchor": "y",
         "domain": [
          0,
          1
         ],
         "title": {
          "text": "Location"
         }
        },
        "yaxis": {
         "anchor": "x",
         "domain": [
          0,
          1
         ],
         "title": {
          "text": "Number of meetings"
         }
        }
       }
      }
     },
     "metadata": {},
     "output_type": "display_data"
    }
   ],
   "source": [
    "import plotly.express as px\n",
    "\n",
    "fig = px.bar(location_df, x='Location', y='Number of meetings')\n",
    "fig.show()\n"
   ]
  },
  {
   "cell_type": "markdown",
   "metadata": {},
   "source": [
    "And there you go, you have used Python to scrape, analyse and plot non traditional meeting data! "
   ]
  },
  {
   "cell_type": "markdown",
   "metadata": {},
   "source": [
    "## Challenge\n",
    "\n",
    "Obviously, where most the meetings are held is not the most interesting finding. What would be much more interesting, would be to analyse the number of meetings with each entity and see who the representative President Ursula von der Leyen has meet with the most. We can use the entity column to do this, but you might have noticed that this column sometimes contains more than one entity, so to analyse it we first need to separate out the names. We could probably try doing this with code using an natural language library such as [Spacy](https://spacy.io/), but this case is probably easier to do manually. I have tried to clean this data by added a `|` separator between each name in the same cell. You can download this data as a data frame with the following code:"
   ]
  },
  {
   "cell_type": "markdown",
   "metadata": {},
   "source": []
  },
  {
   "cell_type": "code",
   "execution_count": 42,
   "metadata": {},
   "outputs": [
    {
     "data": {
      "text/html": [
       "<div>\n",
       "<style scoped>\n",
       "    .dataframe tbody tr th:only-of-type {\n",
       "        vertical-align: middle;\n",
       "    }\n",
       "\n",
       "    .dataframe tbody tr th {\n",
       "        vertical-align: top;\n",
       "    }\n",
       "\n",
       "    .dataframe thead th {\n",
       "        text-align: right;\n",
       "    }\n",
       "</style>\n",
       "<table border=\"1\" class=\"dataframe\">\n",
       "  <thead>\n",
       "    <tr style=\"text-align: right;\">\n",
       "      <th></th>\n",
       "      <th>Date</th>\n",
       "      <th>Location</th>\n",
       "      <th>Entity/ies met</th>\n",
       "      <th>Subject(s)</th>\n",
       "    </tr>\n",
       "  </thead>\n",
       "  <tbody>\n",
       "    <tr>\n",
       "      <th>0</th>\n",
       "      <td>03/09/2021</td>\n",
       "      <td>Evian, France</td>\n",
       "      <td>Allianz SE (Allianz Group) |</td>\n",
       "      <td>Meeting with CEO of Allianz</td>\n",
       "    </tr>\n",
       "    <tr>\n",
       "      <th>1</th>\n",
       "      <td>29/08/2021</td>\n",
       "      <td>Brussels</td>\n",
       "      <td>European Round Table for Industry (ERT) |</td>\n",
       "      <td>Dinner/ meeting with the ERT members on green ...</td>\n",
       "    </tr>\n",
       "    <tr>\n",
       "      <th>2</th>\n",
       "      <td>25/08/2021</td>\n",
       "      <td>Videoconference</td>\n",
       "      <td>Siemens AG (SAG) |  Volvo AB (Volvo Group) | A...</td>\n",
       "      <td>Videoconference with Chairman of Volvo, Chairm...</td>\n",
       "    </tr>\n",
       "    <tr>\n",
       "      <th>3</th>\n",
       "      <td>19/07/2021</td>\n",
       "      <td>Brussels</td>\n",
       "      <td>Bill &amp; Melinda Gates Foundation (BMGF) |</td>\n",
       "      <td>Meeting with Co-chairman and co-founder of the...</td>\n",
       "    </tr>\n",
       "    <tr>\n",
       "      <th>4</th>\n",
       "      <td>09/07/2021</td>\n",
       "      <td>Brussels</td>\n",
       "      <td>Global Citizen</td>\n",
       "      <td>Meeting with the CEO from Global Citizen</td>\n",
       "    </tr>\n",
       "  </tbody>\n",
       "</table>\n",
       "</div>"
      ],
      "text/plain": [
       "         Date         Location  \\\n",
       "0  03/09/2021    Evian, France   \n",
       "1  29/08/2021         Brussels   \n",
       "2  25/08/2021  Videoconference   \n",
       "3  19/07/2021         Brussels   \n",
       "4  09/07/2021         Brussels   \n",
       "\n",
       "                                      Entity/ies met  \\\n",
       "0                       Allianz SE (Allianz Group) |   \n",
       "1          European Round Table for Industry (ERT) |   \n",
       "2  Siemens AG (SAG) |  Volvo AB (Volvo Group) | A...   \n",
       "3           Bill & Melinda Gates Foundation (BMGF) |   \n",
       "4                                     Global Citizen   \n",
       "\n",
       "                                          Subject(s)  \n",
       "0                        Meeting with CEO of Allianz  \n",
       "1  Dinner/ meeting with the ERT members on green ...  \n",
       "2  Videoconference with Chairman of Volvo, Chairm...  \n",
       "3  Meeting with Co-chairman and co-founder of the...  \n",
       "4           Meeting with the CEO from Global Citizen  "
      ]
     },
     "execution_count": 42,
     "metadata": {},
     "output_type": "execute_result"
    }
   ],
   "source": [
    "df_cleaned = pd.read_csv('https://github.com/JakeCarbone/UCL-coding-tutorial/raw/master/Leyen_meetings_cleaned.csv') # Notice how Pandas can read the csv file from the web\n",
    "\n",
    "df_cleaned.head(5) # This prints the first 5 rows\n"
   ]
  },
  {
   "cell_type": "markdown",
   "metadata": {},
   "source": [
    "Now try using Python to see who President Leyen meet the most with. "
   ]
  },
  {
   "cell_type": "markdown",
   "metadata": {},
   "source": [
    "## Next steps\n",
    "\n",
    "That concludes the InfluenceMap coding tutorials. If you are eager to learn more here are some good resources:\n",
    "\n",
    "* [This Free interactive Python Scrimba course](https://scrimba.com/learn/python) - This is a free introductory Python course from Scrimba.\n",
    "\n",
    "* [First Python Notebook course](https://www.firstpythonnotebook.org/) - This is a free tutorial developed for journalists and makes an excellent next step following the completion of our tutorial."
   ]
  },
  {
   "cell_type": "markdown",
   "metadata": {},
   "source": []
  }
 ],
 "metadata": {
  "interpreter": {
   "hash": "0ddd9df90056427e1b3de1acbceb1eedcb1dfca42b99b692693d0b99a017a8de"
  },
  "kernelspec": {
   "display_name": "Python 3.7.9 64-bit ('main_env': conda)",
   "name": "python3"
  },
  "language_info": {
   "codemirror_mode": {
    "name": "ipython",
    "version": 3
   },
   "file_extension": ".py",
   "mimetype": "text/x-python",
   "name": "python",
   "nbconvert_exporter": "python",
   "pygments_lexer": "ipython3",
   "version": "3.7.9"
  }
 },
 "nbformat": 4,
 "nbformat_minor": 4
}
